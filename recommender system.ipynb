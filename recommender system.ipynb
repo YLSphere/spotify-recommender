{
 "cells": [
  {
   "cell_type": "code",
   "execution_count": 57,
   "id": "7d1a959f",
   "metadata": {},
   "outputs": [
    {
     "name": "stdout",
     "output_type": "stream",
     "text": [
      "env: SPOTIPY_CLIENT_ID=379078eafdf94d51967870878edfa069\n",
      "env: SPOTIPY_CLIENT_SECRET=dfbe28d38f374a72b9c2208606e89b48\n",
      "env: SPOTIPY_REDIRECT_URI=http://127.0.0.1:8888\n"
     ]
    }
   ],
   "source": [
    "%env SPOTIPY_CLIENT_ID=379078eafdf94d51967870878edfa069\n",
    "%env SPOTIPY_CLIENT_SECRET=dfbe28d38f374a72b9c2208606e89b48\n",
    "%env SPOTIPY_REDIRECT_URI=http://127.0.0.1:8888\n"
   ]
  },
  {
   "cell_type": "code",
   "execution_count": 60,
   "id": "ef0a5c62",
   "metadata": {},
   "outputs": [
    {
     "name": "stdout",
     "output_type": "stream",
     "text": [
      "0 Roar  –  I Can't Handle Change\n",
      "1 joe p  –  Off My Mind\n",
      "2 Surf Curse  –  Freaks\n",
      "3 Two Door Cinema Club  –  Undercover Martyn\n",
      "4 Two Door Cinema Club  –  What You Know\n",
      "5 The Jungle Giants  –  All The Wrong Places\n",
      "6 Arctic Monkeys  –  Why'd You Only Call Me When You're High?\n",
      "7 The Jungle Giants  –  She's a Riot\n",
      "8 Passion Pit  –  Take a Walk\n",
      "9 Last Dinosaurs  –  Sunday Night\n",
      "10 Doc Aquatic  –  Arrived\n",
      "11 The Neighbourhood  –  Sweater Weather\n",
      "12 Last Dinosaurs  –  Time & Place\n",
      "13 Cypis  –  Gdzie jest biały węgorz ? (Zejście)\n",
      "14 Midi Matilda  –  Red Light District\n",
      "15 Last Dinosaurs  –  Andy\n",
      "16 The Neighbourhood  –  You Get Me So High\n",
      "17 HUNNY  –  Televised\n",
      "18 Vansire  –  That I Miss You\n",
      "19 Grouplove  –  Raspberry\n"
     ]
    }
   ],
   "source": [
    "import spotipy\n",
    "from spotipy.oauth2 import SpotifyOAuth\n",
    "\n",
    "scope = \"user-top-read\"\n",
    "\n",
    "sp = spotipy.Spotify(auth_manager=SpotifyOAuth(scope=scope))\n",
    "\n",
    "results = sp.current_user_top_tracks(time_range = 'medium_term')\n",
    "\n",
    "\n",
    "for idx, item in enumerate(results['items']):\n",
    "    print(idx, item['artists'][0]['name'], \" – \", item['name'])\n",
    "    "
   ]
  },
  {
   "cell_type": "code",
   "execution_count": null,
   "id": "be84eed8",
   "metadata": {},
   "outputs": [],
   "source": []
  }
 ],
 "metadata": {
  "interpreter": {
   "hash": "aee8b7b246df8f9039afb4144a1f6fd8d2ca17a180786b69acc140d282b71a49"
  },
  "kernelspec": {
   "display_name": "Python 3 (clean)",
   "language": "python",
   "name": "python3"
  },
  "language_info": {
   "codemirror_mode": {
    "name": "ipython",
    "version": 3
   },
   "file_extension": ".py",
   "mimetype": "text/x-python",
   "name": "python",
   "nbconvert_exporter": "python",
   "pygments_lexer": "ipython3",
   "version": "3.8.5"
  }
 },
 "nbformat": 4,
 "nbformat_minor": 5
}
